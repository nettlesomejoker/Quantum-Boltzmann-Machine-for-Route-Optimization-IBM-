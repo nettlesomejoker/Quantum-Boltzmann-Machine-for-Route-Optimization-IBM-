{
 "cells": [
  {
   "cell_type": "markdown",
   "id": "8c18d41a",
   "metadata": {},
   "source": [
    "# Python Environment Setup\n",
    "This notebook will help set up the Python environment for the Quantum Boltzmann Machine project."
   ]
  },
  {
   "cell_type": "code",
   "execution_count": 1,
   "id": "3c82da9f",
   "metadata": {},
   "outputs": [
    {
     "name": "stdout",
     "output_type": "stream",
     "text": [
      "Installing tomli...\n"
     ]
    }
   ],
   "source": [
    "# First, let's install tomli for reading the TOML file\n",
    "import sys\n",
    "import subprocess\n",
    "\n",
    "def install_package(package):\n",
    "    subprocess.check_call([sys.executable, \"-m\", \"pip\", \"install\", package])\n",
    "\n",
    "try:\n",
    "    import tomli\n",
    "except ImportError:\n",
    "    print(\"Installing tomli...\")\n",
    "    install_package(\"tomli\")"
   ]
  },
  {
   "cell_type": "code",
   "execution_count": 3,
   "id": "9f81382e",
   "metadata": {},
   "outputs": [
    {
     "name": "stdout",
     "output_type": "stream",
     "text": [
      "Project Configuration:\n",
      "Name: quantum-boltzmann-machine-for-route-optimisation\n",
      "Version: 0.1.0\n",
      "Description: Add your description here\n",
      "\n",
      "Installing required packages...\n"
     ]
    }
   ],
   "source": [
    "# Read and parse the pyproject.toml file\n",
    "import tomli\n",
    "\n",
    "with open(\"pyproject.toml\", \"rb\") as f:\n",
    "    config = tomli.load(f)\n",
    "\n",
    "# Required packages for the QBM project\n",
    "required_packages = [\n",
    "    \"numpy\",\n",
    "    \"pandas\",\n",
    "    \"matplotlib\"\n",
    "]\n",
    "\n",
    "print(\"Project Configuration:\")\n",
    "print(f\"Name: {config['project']['name']}\")\n",
    "print(f\"Version: {config['project']['version']}\")\n",
    "print(f\"Description: {config['project']['description']}\")\n",
    "print(\"\\nInstalling required packages...\")"
   ]
  },
  {
   "cell_type": "code",
   "execution_count": 4,
   "id": "770e58ab",
   "metadata": {},
   "outputs": [
    {
     "name": "stdout",
     "output_type": "stream",
     "text": [
      "\n",
      "Installing numpy...\n",
      "\n",
      "Installing pandas...\n",
      "\n",
      "Installing pandas...\n",
      "\n",
      "Installing matplotlib...\n",
      "\n",
      "Installing matplotlib...\n"
     ]
    }
   ],
   "source": [
    "# Install required packages\n",
    "for package in required_packages:\n",
    "    try:\n",
    "        print(f\"\\nInstalling {package}...\")\n",
    "        install_package(package)\n",
    "    except subprocess.CalledProcessError as e:\n",
    "        print(f\"Error installing {package}: {e}\")"
   ]
  },
  {
   "cell_type": "code",
   "execution_count": 5,
   "id": "62d82b6b",
   "metadata": {},
   "outputs": [
    {
     "name": "stdout",
     "output_type": "stream",
     "text": [
      "\n",
      "Verifying installations...\n",
      "\n",
      "NumPy version: 1.26.4\n",
      "Pandas version: 2.3.3\n",
      "Matplotlib version: 3.10.5\n",
      "\n",
      "All required packages have been installed successfully!\n",
      "\n",
      "NumPy version: 1.26.4\n",
      "Pandas version: 2.3.3\n",
      "Matplotlib version: 3.10.5\n",
      "\n",
      "All required packages have been installed successfully!\n"
     ]
    }
   ],
   "source": [
    "# Verify installations\n",
    "print(\"\\nVerifying installations...\")\n",
    "import numpy as np\n",
    "import pandas as pd\n",
    "import matplotlib as plt\n",
    "\n",
    "print(f\"\\nNumPy version: {np.__version__}\")\n",
    "print(f\"Pandas version: {pd.__version__}\")\n",
    "print(f\"Matplotlib version: {plt.__version__}\")\n",
    "print(\"\\nAll required packages have been installed successfully!\")"
   ]
  }
 ],
 "metadata": {
  "kernelspec": {
   "display_name": "Python 3",
   "language": "python",
   "name": "python3"
  },
  "language_info": {
   "codemirror_mode": {
    "name": "ipython",
    "version": 3
   },
   "file_extension": ".py",
   "mimetype": "text/x-python",
   "name": "python",
   "nbconvert_exporter": "python",
   "pygments_lexer": "ipython3",
   "version": "3.12.10"
  }
 },
 "nbformat": 4,
 "nbformat_minor": 5
}
